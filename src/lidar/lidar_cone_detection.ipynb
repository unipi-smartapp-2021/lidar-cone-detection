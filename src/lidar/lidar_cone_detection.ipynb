{
  "nbformat": 4,
  "nbformat_minor": 0,
  "metadata": {
    "colab": {
      "name": "lidar_cone_detection.ipynb",
      "provenance": [],
      "collapsed_sections": [
        "EloEarf7VhBV",
        "vzIHYzwWymd2"
      ]
    },
    "kernelspec": {
      "name": "python3",
      "display_name": "Python 3"
    },
    "language_info": {
      "name": "python"
    },
    "accelerator": "GPU"
  },
  "cells": [
    {
      "cell_type": "markdown",
      "metadata": {
        "id": "ffd78hJqFPdH"
      },
      "source": [
        "# **Lidar cone detection**"
      ]
    },
    {
      "cell_type": "markdown",
      "metadata": {
        "id": "a3uEmrsvUxd0"
      },
      "source": [
        "## **Setup**\n",
        "\n",
        "Setup the repo and the model."
      ]
    },
    {
      "cell_type": "markdown",
      "metadata": {
        "id": "3i3JABp6XVPU"
      },
      "source": [
        "### **Clone the repositories and import the libraries**\n",
        "\n",
        "Clone the repository from the smart application course organization and the one for the yolov5 model and import the libraries needed to work with the porject."
      ]
    },
    {
      "cell_type": "code",
      "metadata": {
        "id": "0lFVzjLYHpRh",
        "colab": {
          "base_uri": "https://localhost:8080/"
        },
        "outputId": "68b48670-cc12-4472-e467-7399c42e1da8"
      },
      "source": [
        "!git clone --recurse-submodules \"https://github.com/unipi-smartapp-2021/sensory-cone-detection\"   # clone our repository\n",
        "!git clone \"https://github.com/ultralytics/yolov5\"  # clone the model repository"
      ],
      "execution_count": null,
      "outputs": [
        {
          "output_type": "stream",
          "name": "stdout",
          "text": [
            "Cloning into 'lidar-cone-detection'...\n",
            "remote: Enumerating objects: 2899, done.\u001b[K\n",
            "remote: Counting objects: 100% (34/34), done.\u001b[K\n",
            "remote: Compressing objects: 100% (33/33), done.\u001b[K\n",
            "remote: Total 2899 (delta 15), reused 0 (delta 0), pack-reused 2865\u001b[K\n",
            "Receiving objects: 100% (2899/2899), 121.76 MiB | 33.29 MiB/s, done.\n",
            "Resolving deltas: 100% (515/515), done.\n",
            "Submodule 'sensory/scripts/yolov5' (https://github.com/ultralytics/yolov5) registered for path 'sensory/scripts/yolov5'\n",
            "Submodule 'src/lidar/ros_numpy' (https://github.com/eric-wieser/ros_numpy) registered for path 'src/lidar/ros_numpy'\n",
            "Cloning into '/content/lidar-cone-detection/sensory/scripts/yolov5'...\n",
            "remote: Enumerating objects: 10485, done.        \n",
            "remote: Counting objects: 100% (2/2), done.        \n",
            "remote: Compressing objects: 100% (2/2), done.        \n",
            "remote: Total 10485 (delta 0), reused 1 (delta 0), pack-reused 10483        \n",
            "Receiving objects: 100% (10485/10485), 10.65 MiB | 25.06 MiB/s, done.\n",
            "Resolving deltas: 100% (7250/7250), done.\n",
            "Cloning into '/content/lidar-cone-detection/src/lidar/ros_numpy'...\n",
            "remote: Enumerating objects: 223, done.        \n",
            "remote: Counting objects: 100% (7/7), done.        \n",
            "remote: Compressing objects: 100% (5/5), done.        \n",
            "remote: Total 223 (delta 2), reused 6 (delta 2), pack-reused 216        \n",
            "Receiving objects: 100% (223/223), 38.59 KiB | 1.68 MiB/s, done.\n",
            "Resolving deltas: 100% (104/104), done.\n",
            "Submodule path 'sensory/scripts/yolov5': checked out '19c56e60b100cf8ff9af65b4347de69e0cff76ae'\n",
            "Submodule path 'src/lidar/ros_numpy': checked out 'b76f79c8dbe3866f39836d1e482d29cb20bb5e82'\n",
            "Cloning into 'yolov5'...\n",
            "remote: Enumerating objects: 10485, done.\u001b[K\n",
            "remote: Counting objects: 100% (2/2), done.\u001b[K\n",
            "remote: Compressing objects: 100% (2/2), done.\u001b[K\n",
            "remote: Total 10485 (delta 0), reused 1 (delta 0), pack-reused 10483\u001b[K\n",
            "Receiving objects: 100% (10485/10485), 10.69 MiB | 25.40 MiB/s, done.\n",
            "Resolving deltas: 100% (7241/7241), done.\n"
          ]
        }
      ]
    },
    {
      "cell_type": "markdown",
      "source": [
        "The pypcd package has an error, fix it."
      ],
      "metadata": {
        "id": "CwRu0IWiW8if"
      }
    },
    {
      "cell_type": "code",
      "metadata": {
        "id": "I3z2VhLoZVd_"
      },
      "source": [
        "!sed -i \"s/import cStringIO as sio/from io import StringIO as sio/g\" ../usr/local/lib/python3.7/dist-packages/pypcd/pypcd.py"
      ],
      "execution_count": null,
      "outputs": []
    },
    {
      "cell_type": "markdown",
      "metadata": {
        "id": "IsnHYOvsUxd9"
      },
      "source": [
        "Import the libraries and mount the drive."
      ]
    },
    {
      "cell_type": "code",
      "metadata": {
        "id": "BLlfCk66Uxd9",
        "colab": {
          "base_uri": "https://localhost:8080/"
        },
        "outputId": "aa601a7b-05ec-4975-a861-d1336cdb817d"
      },
      "source": [
        "from tqdm import tqdm\n",
        "import zipfile\n",
        "import tarfile\n",
        "from google.colab import drive\n",
        "drive.mount('/content/drive')  # mount the drive"
      ],
      "execution_count": null,
      "outputs": [
        {
          "output_type": "stream",
          "name": "stdout",
          "text": [
            "Drive already mounted at /content/drive; to attempt to forcibly remount, call drive.mount(\"/content/drive\", force_remount=True).\n"
          ]
        }
      ]
    },
    {
      "cell_type": "markdown",
      "metadata": {
        "id": "D_0Ud59-QO2t"
      },
      "source": [
        "### **Manage the dataset**\n",
        "\n",
        "If the dataset is inside a rosbag extract it, otherwise manage it with the manage_dataset.py method."
      ]
    },
    {
      "cell_type": "code",
      "metadata": {
        "id": "yXNkgK0RnbaS"
      },
      "source": [
        "with zipfile.ZipFile(\"/content/drive/Shareddrives/Sensory_data/medium_ds2.zip\", mode='r') as z:\n",
        "        z.extractall()"
      ],
      "execution_count": null,
      "outputs": []
    },
    {
      "cell_type": "markdown",
      "metadata": {
        "id": "GjszdXIf1af-"
      },
      "source": [
        "Manage the dataset by following what is suggested in https://github.com/ultralytics/yolov5/wiki/Train-Custom-Data chapter 1.3. Keep in mind to modify the directory from which you're moving the images (ConeDataset for the first dataset or TRset for the full one).\n",
        "\n",
        "You can decide to convert the images to grayscale ones or not, then the dataset is splited into train, validation and test sets."
      ]
    },
    {
      "cell_type": "code",
      "metadata": {
        "id": "-ofhspN2589x"
      },
      "source": [
        "!python sensory-cone-detection/src/manage_dataset.py --dataset medium_ds --path sensory-cone-detection/src/datasets/dataset_lidar"
      ],
      "execution_count": null,
      "outputs": []
    },
    {
      "cell_type": "markdown",
      "metadata": {
        "id": "EloEarf7VhBV"
      },
      "source": [
        "### **Check the yolov5 model and import the weights**\n",
        "\n",
        "Check if yolov5 is ready and fine."
      ]
    },
    {
      "cell_type": "code",
      "metadata": {
        "colab": {
          "base_uri": "https://localhost:8080/"
        },
        "id": "XqN-E90RIJIn",
        "outputId": "59424119-2a71-4357-a41d-52aea13f798a"
      },
      "source": [
        "%cd yolov5\n",
        "from yolov5.utils import notebook_init\n",
        "display = notebook_init()  # checks\n",
        "%cd ../"
      ],
      "execution_count": null,
      "outputs": [
        {
          "output_type": "stream",
          "name": "stderr",
          "text": [
            "YOLOv5 🚀 v6.0-124-g1075488 torch 1.10.0+cu111 CUDA:0 (Tesla K80, 11441MiB)\n"
          ]
        },
        {
          "output_type": "stream",
          "name": "stdout",
          "text": [
            "Setup complete ✅\n",
            "/content\n"
          ]
        }
      ]
    },
    {
      "cell_type": "markdown",
      "source": [
        "Install yolov5 requirements."
      ],
      "metadata": {
        "id": "BCYg-kxcx5c1"
      }
    },
    {
      "cell_type": "code",
      "source": [
        "!pip install -r yolov5/requirements.txt"
      ],
      "metadata": {
        "id": "RLcR5KxrvgES"
      },
      "execution_count": null,
      "outputs": []
    },
    {
      "cell_type": "markdown",
      "metadata": {
        "id": "th1yO-ZIRQqN"
      },
      "source": [
        "Import the yolov5 model, all the available models can be found here: https://github.com/ultralytics/yolov5/releases/."
      ]
    },
    {
      "cell_type": "code",
      "metadata": {
        "colab": {
          "base_uri": "https://localhost:8080/"
        },
        "id": "wd0dUn1QWhH_",
        "outputId": "de8480a6-194e-489c-a85a-85568d8b6929"
      },
      "source": [
        "import requests\n",
        "url = 'https://github.com/ultralytics/yolov5/releases/download/v6.0/yolov5s.pt'\n",
        "r = requests.get(url, allow_redirects=True)\n",
        "open('yolov5s.pt', 'wb').write(r.content)"
      ],
      "execution_count": null,
      "outputs": [
        {
          "output_type": "execute_result",
          "data": {
            "text/plain": [
              "14698491"
            ]
          },
          "metadata": {},
          "execution_count": 8
        }
      ]
    },
    {
      "cell_type": "markdown",
      "metadata": {
        "id": "vzIHYzwWymd2"
      },
      "source": [
        "## **Convert from rosbag to pcd**\n",
        "\n",
        "If the dataset is inside a rosbag convert each message to a pcd file by calling the right method."
      ]
    },
    {
      "cell_type": "code",
      "metadata": {
        "id": "8VxbMA6AIbRj",
        "colab": {
          "base_uri": "https://localhost:8080/"
        },
        "outputId": "4d16681c-408b-4265-e1ee-56f23be2999e"
      },
      "source": [
        "!python sensory-cone-detection/src/lidar/convert_rosbag_to_pcd.py --rosbag /content/lidar_dataset/2021-11-28-16-29-25.bag --path sensory-cone-detection/src/lidar/pcd_lidar"
      ],
      "execution_count": null,
      "outputs": [
        {
          "output_type": "stream",
          "name": "stdout",
          "text": [
            "\r  0% 0/1800 [00:00<?, ?it/s]95961901796\n",
            "\r  0% 0/1800 [00:00<?, ?it/s]\n"
          ]
        }
      ]
    },
    {
      "cell_type": "markdown",
      "metadata": {
        "id": "RDyLo3UEWLpn"
      },
      "source": [
        "Save the pcd files inside a tar.gz by using the next command."
      ]
    },
    {
      "cell_type": "code",
      "metadata": {
        "id": "thHeobMWtt2D"
      },
      "source": [
        "!python -m tarfile -c lidar_dataset.tar.gz \"lidar-cone-detection/src/Lidar/pcd_outputs/\""
      ],
      "execution_count": null,
      "outputs": []
    },
    {
      "cell_type": "markdown",
      "metadata": {
        "id": "nPxg_OD_yvwH"
      },
      "source": [
        "## **Train the model**\n",
        "\n",
        "Train the model following the guide from https://github.com/ultralytics/yolov5/blob/master/tutorial.ipynb."
      ]
    },
    {
      "cell_type": "markdown",
      "metadata": {
        "id": "E2ZTpdvIrV13"
      },
      "source": [
        "**Main arguments:**\n",
        "*   *--img*, image size.\n",
        "*   *--batch*, batch size.\n",
        "*   *--epochs*, number of epochs.\n",
        "*   *--data*, the yaml file that specifies where datasets are.\n",
        "*   *--weights*, the model weights (you can find them here https://github.com/ultralytics/yolov5/releases).\n",
        "*   *--cache*, to save a cache file of the train and validation sets.\n",
        "*   *--project*, where to save the results.\n",
        "\n",
        "**An example of train call would be:**\n",
        "\n",
        "!python yolov5/train.py --img img_size --batch batch_size --epochs epochs --data dataset.yaml --weights model --cache --project runs/train\n",
        "\n",
        "\n",
        "\n",
        "\n",
        "\n",
        "\n"
      ]
    },
    {
      "cell_type": "code",
      "metadata": {
        "id": "WXHb1S1INMPi",
        "colab": {
          "base_uri": "https://localhost:8080/"
        },
        "outputId": "f4074660-5cb6-47ef-85ee-32d741434e76"
      },
      "source": [
        "!python yolov5/train.py --img 480 --batch 16 --epochs 100 --data sensory-cone-detection/src/lidar/conedataset_lidar.yaml --weights yolov5s.pt --cache --project train"
      ],
      "execution_count": null,
      "outputs": [
        {
          "output_type": "stream",
          "name": "stdout",
          "text": [
            "Downloading https://ultralytics.com/assets/Arial.ttf to /root/.config/Ultralytics/Arial.ttf...\n",
            "\u001b[34m\u001b[1mtrain: \u001b[0mweights=/content/yolov5s.pt, cfg=, data=/content/lidar-cone-detection/src/lidar/conedataset_lidar.yaml, hyp=yolov5/data/hyps/hyp.scratch.yaml, epochs=100, batch_size=16, imgsz=480, rect=False, resume=False, nosave=False, noval=False, noautoanchor=False, evolve=None, bucket=, cache=ram, image_weights=False, device=, multi_scale=False, single_cls=False, adam=False, sync_bn=False, workers=8, project=train, name=exp, exist_ok=False, quad=False, linear_lr=False, label_smoothing=0.0, patience=100, freeze=0, save_period=-1, local_rank=-1, entity=None, upload_dataset=False, bbox_interval=-1, artifact_alias=latest\n",
            "\u001b[34m\u001b[1mgithub: \u001b[0mup to date with https://github.com/ultralytics/yolov5 ✅\n",
            "YOLOv5 🚀 v6.0-124-g1075488 torch 1.10.0+cu111 CUDA:0 (Tesla K80, 11441MiB)\n",
            "\n",
            "\u001b[34m\u001b[1mhyperparameters: \u001b[0mlr0=0.01, lrf=0.1, momentum=0.937, weight_decay=0.0005, warmup_epochs=3.0, warmup_momentum=0.8, warmup_bias_lr=0.1, box=0.05, cls=0.5, cls_pw=1.0, obj=1.0, obj_pw=1.0, iou_t=0.2, anchor_t=4.0, fl_gamma=0.0, hsv_h=0.015, hsv_s=0.7, hsv_v=0.4, degrees=0.0, translate=0.1, scale=0.5, shear=0.0, perspective=0.0, flipud=0.0, fliplr=0.5, mosaic=1.0, mixup=0.0, copy_paste=0.0\n",
            "\u001b[34m\u001b[1mWeights & Biases: \u001b[0mrun 'pip install wandb' to automatically track and visualize YOLOv5 🚀 runs (RECOMMENDED)\n",
            "\u001b[34m\u001b[1mTensorBoard: \u001b[0mStart with 'tensorboard --logdir train', view at http://localhost:6006/\n",
            "Overriding model.yaml nc=80 with nc=1\n",
            "\n",
            "                 from  n    params  module                                  arguments                     \n",
            "  0                -1  1      3520  models.common.Conv                      [3, 32, 6, 2, 2]              \n",
            "  1                -1  1     18560  models.common.Conv                      [32, 64, 3, 2]                \n",
            "  2                -1  1     18816  models.common.C3                        [64, 64, 1]                   \n",
            "  3                -1  1     73984  models.common.Conv                      [64, 128, 3, 2]               \n",
            "  4                -1  2    115712  models.common.C3                        [128, 128, 2]                 \n",
            "  5                -1  1    295424  models.common.Conv                      [128, 256, 3, 2]              \n",
            "  6                -1  3    625152  models.common.C3                        [256, 256, 3]                 \n",
            "  7                -1  1   1180672  models.common.Conv                      [256, 512, 3, 2]              \n",
            "  8                -1  1   1182720  models.common.C3                        [512, 512, 1]                 \n",
            "  9                -1  1    656896  models.common.SPPF                      [512, 512, 5]                 \n",
            " 10                -1  1    131584  models.common.Conv                      [512, 256, 1, 1]              \n",
            " 11                -1  1         0  torch.nn.modules.upsampling.Upsample    [None, 2, 'nearest']          \n",
            " 12           [-1, 6]  1         0  models.common.Concat                    [1]                           \n",
            " 13                -1  1    361984  models.common.C3                        [512, 256, 1, False]          \n",
            " 14                -1  1     33024  models.common.Conv                      [256, 128, 1, 1]              \n",
            " 15                -1  1         0  torch.nn.modules.upsampling.Upsample    [None, 2, 'nearest']          \n",
            " 16           [-1, 4]  1         0  models.common.Concat                    [1]                           \n",
            " 17                -1  1     90880  models.common.C3                        [256, 128, 1, False]          \n",
            " 18                -1  1    147712  models.common.Conv                      [128, 128, 3, 2]              \n",
            " 19          [-1, 14]  1         0  models.common.Concat                    [1]                           \n",
            " 20                -1  1    296448  models.common.C3                        [256, 256, 1, False]          \n",
            " 21                -1  1    590336  models.common.Conv                      [256, 256, 3, 2]              \n",
            " 22          [-1, 10]  1         0  models.common.Concat                    [1]                           \n",
            " 23                -1  1   1182720  models.common.C3                        [512, 512, 1, False]          \n",
            " 24      [17, 20, 23]  1     16182  models.yolo.Detect                      [1, [[10, 13, 16, 30, 33, 23], [30, 61, 62, 45, 59, 119], [116, 90, 156, 198, 373, 326]], [128, 256, 512]]\n",
            "Model Summary: 270 layers, 7022326 parameters, 7022326 gradients, 15.8 GFLOPs\n",
            "\n",
            "Transferred 343/349 items from /content/yolov5s.pt\n",
            "Scaled weight_decay = 0.0005\n",
            "\u001b[34m\u001b[1moptimizer:\u001b[0m SGD with parameter groups 57 weight, 60 weight (no decay), 60 bias\n",
            "\u001b[34m\u001b[1malbumentations: \u001b[0mversion 1.0.3 required by YOLOv5, but version 0.1.12 is currently installed\n",
            "\u001b[34m\u001b[1mtrain: \u001b[0mScanning '/content/lidar-cone-detection/src/datasets/dataset_lidar/train' images and labels...403 found, 77 missing, 1 empty, 0 corrupted: 100% 480/480 [00:00<00:00, 1418.25it/s]\n",
            "\u001b[34m\u001b[1mtrain: \u001b[0mWARNING: lidar-cone-detection/src/datasets/dataset_lidar/images/001010.png: 1 duplicate labels removed\n",
            "\u001b[34m\u001b[1mtrain: \u001b[0mWARNING: lidar-cone-detection/src/datasets/dataset_lidar/images/00700.png: 1 duplicate labels removed\n",
            "\u001b[34m\u001b[1mtrain: \u001b[0mNew cache created: /content/lidar-cone-detection/src/datasets/dataset_lidar/train.cache\n",
            "\u001b[34m\u001b[1mtrain: \u001b[0mCaching images (0.3GB ram): 100% 480/480 [00:01<00:00, 420.50it/s]\n",
            "\u001b[34m\u001b[1mval: \u001b[0mScanning '/content/lidar-cone-detection/src/datasets/dataset_lidar/validation' images and labels...49 found, 11 missing, 0 empty, 0 corrupted: 100% 60/60 [00:00<00:00, 725.03it/s]\n",
            "\u001b[34m\u001b[1mval: \u001b[0mWARNING: lidar-cone-detection/src/datasets/dataset_lidar/images/001048.png: 1 duplicate labels removed\n",
            "\u001b[34m\u001b[1mval: \u001b[0mWARNING: lidar-cone-detection/src/datasets/dataset_lidar/images/00701.png: 1 duplicate labels removed\n",
            "\u001b[34m\u001b[1mval: \u001b[0mNew cache created: /content/lidar-cone-detection/src/datasets/dataset_lidar/validation.cache\n",
            "\u001b[34m\u001b[1mval: \u001b[0mCaching images (0.0GB ram): 100% 60/60 [00:00<00:00, 152.62it/s]\n",
            "Plotting labels to train/exp/labels.jpg... \n",
            "\n",
            "\u001b[34m\u001b[1mAutoAnchor: \u001b[0m1.19 anchors/target, 0.499 Best Possible Recall (BPR). Anchors are a poor fit to dataset ⚠️, attempting to improve...\n",
            "\u001b[34m\u001b[1mAutoAnchor: \u001b[0mWARNING: Extremely small objects found. 1057 of 2699 labels are < 3 pixels in size.\n",
            "\u001b[34m\u001b[1mAutoAnchor: \u001b[0mRunning kmeans for 9 anchors on 2552 points...\n",
            "\u001b[34m\u001b[1mAutoAnchor: \u001b[0mEvolving anchors with Genetic Algorithm: fitness = 0.6148: 100% 1000/1000 [00:00<00:00, 1053.67it/s]\n",
            "\u001b[34m\u001b[1mAutoAnchor: \u001b[0mthr=0.25: 0.7540 best possible recall, 3.91 anchors past thr\n",
            "\u001b[34m\u001b[1mAutoAnchor: \u001b[0mn=9, img_size=480, metric_all=0.261/0.582-mean/best, past_thr=0.505-mean: 9,2, 6,3, 12,5, 21,4, 11,9, 15,13, 60,6, 17,23, 416,3\n",
            "\u001b[34m\u001b[1mAutoAnchor: \u001b[0mNew anchors saved to model. Update model *.yaml to use these anchors in the future.\n",
            "Image sizes 480 train, 480 val\n",
            "Using 2 dataloader workers\n",
            "Logging results to \u001b[1mtrain/exp\u001b[0m\n",
            "Starting training for 100 epochs...\n",
            "\n",
            "     Epoch   gpu_mem       box       obj       cls    labels  img_size\n",
            "      0/99     1.91G    0.1616   0.01579         0        85       480: 100% 30/30 [00:32<00:00,  1.08s/it]\n",
            "               Class     Images     Labels          P          R     mAP@.5 mAP@.5:.95: 100% 2/2 [00:01<00:00,  1.29it/s]\n",
            "                 all         60          0          0          0          0          0\n",
            "\n",
            "     Epoch   gpu_mem       box       obj       cls    labels  img_size\n",
            "      1/99     2.17G     0.151   0.01489         0        62       480: 100% 30/30 [00:29<00:00,  1.03it/s]\n",
            "               Class     Images     Labels          P          R     mAP@.5 mAP@.5:.95: 100% 2/2 [00:01<00:00,  1.39it/s]\n",
            "                 all         60          0          0          0          0          0\n",
            "\n",
            "     Epoch   gpu_mem       box       obj       cls    labels  img_size\n",
            "      2/99     2.17G    0.1434   0.01516         0        77       480: 100% 30/30 [00:29<00:00,  1.03it/s]\n",
            "               Class     Images     Labels          P          R     mAP@.5 mAP@.5:.95: 100% 2/2 [00:01<00:00,  1.53it/s]\n",
            "                 all         60        347   0.000145    0.00288   5.61e-05   5.61e-06\n",
            "\n",
            "     Epoch   gpu_mem       box       obj       cls    labels  img_size\n",
            "      3/99     2.17G    0.1388   0.01575         0        69       480: 100% 30/30 [00:29<00:00,  1.03it/s]\n",
            "               Class     Images     Labels          P          R     mAP@.5 mAP@.5:.95: 100% 2/2 [00:01<00:00,  1.49it/s]\n",
            "                 all         60        347    0.00297     0.0144   0.000704   0.000174\n",
            "\n",
            "     Epoch   gpu_mem       box       obj       cls    labels  img_size\n",
            "      4/99     2.17G    0.1314   0.01695         0        97       480: 100% 30/30 [00:29<00:00,  1.03it/s]\n",
            "               Class     Images     Labels          P          R     mAP@.5 mAP@.5:.95: 100% 2/2 [00:01<00:00,  1.46it/s]\n",
            "                 all         60        347      0.038      0.161     0.0136    0.00238\n",
            "\n",
            "     Epoch   gpu_mem       box       obj       cls    labels  img_size\n",
            "      5/99     2.17G    0.1208   0.01836         0        70       480: 100% 30/30 [00:28<00:00,  1.04it/s]\n",
            "               Class     Images     Labels          P          R     mAP@.5 mAP@.5:.95: 100% 2/2 [00:01<00:00,  1.54it/s]\n",
            "                 all         60        347     0.0379      0.179     0.0164    0.00298\n",
            "\n",
            "     Epoch   gpu_mem       box       obj       cls    labels  img_size\n",
            "      6/99     2.17G    0.1135   0.01919         0        54       480: 100% 30/30 [00:28<00:00,  1.04it/s]\n",
            "               Class     Images     Labels          P          R     mAP@.5 mAP@.5:.95: 100% 2/2 [00:01<00:00,  1.59it/s]\n",
            "                 all         60        347      0.103      0.199      0.043    0.00849\n",
            "\n",
            "     Epoch   gpu_mem       box       obj       cls    labels  img_size\n",
            "      7/99     2.17G    0.1084   0.01981         0        59       480: 100% 30/30 [00:28<00:00,  1.04it/s]\n",
            "               Class     Images     Labels          P          R     mAP@.5 mAP@.5:.95: 100% 2/2 [00:01<00:00,  1.61it/s]\n",
            "                 all         60        347      0.145      0.242     0.0613     0.0129\n",
            "\n",
            "     Epoch   gpu_mem       box       obj       cls    labels  img_size\n",
            "      8/99     2.17G    0.1049   0.02007         0        50       480: 100% 30/30 [00:28<00:00,  1.04it/s]\n",
            "               Class     Images     Labels          P          R     mAP@.5 mAP@.5:.95: 100% 2/2 [00:01<00:00,  1.62it/s]\n",
            "                 all         60        347      0.203      0.199      0.073     0.0145\n",
            "\n",
            "     Epoch   gpu_mem       box       obj       cls    labels  img_size\n",
            "      9/99     2.17G    0.1012   0.02023         0        66       480: 100% 30/30 [00:28<00:00,  1.05it/s]\n",
            "               Class     Images     Labels          P          R     mAP@.5 mAP@.5:.95: 100% 2/2 [00:01<00:00,  1.64it/s]\n",
            "                 all         60        347      0.202      0.285      0.124     0.0315\n",
            "\n",
            "     Epoch   gpu_mem       box       obj       cls    labels  img_size\n",
            "     10/99     2.17G       0.1   0.02027         0        61       480: 100% 30/30 [00:28<00:00,  1.04it/s]\n",
            "               Class     Images     Labels          P          R     mAP@.5 mAP@.5:.95: 100% 2/2 [00:01<00:00,  1.60it/s]\n",
            "                 all         60        347      0.239      0.285      0.152     0.0359\n",
            "\n",
            "     Epoch   gpu_mem       box       obj       cls    labels  img_size\n",
            "     11/99     2.17G    0.1008   0.02034         0        57       480: 100% 30/30 [00:28<00:00,  1.04it/s]\n",
            "               Class     Images     Labels          P          R     mAP@.5 mAP@.5:.95: 100% 2/2 [00:01<00:00,  1.44it/s]\n",
            "                 all         60        347      0.267      0.233      0.125     0.0295\n",
            "\n",
            "     Epoch   gpu_mem       box       obj       cls    labels  img_size\n",
            "     12/99     2.17G   0.09616   0.02037         0        60       480: 100% 30/30 [00:28<00:00,  1.04it/s]\n",
            "               Class     Images     Labels          P          R     mAP@.5 mAP@.5:.95: 100% 2/2 [00:01<00:00,  1.73it/s]\n",
            "                 all         60        347      0.219      0.239      0.109     0.0246\n",
            "\n",
            "     Epoch   gpu_mem       box       obj       cls    labels  img_size\n",
            "     13/99     2.17G   0.09648   0.02055         0        81       480: 100% 30/30 [00:28<00:00,  1.04it/s]\n",
            "               Class     Images     Labels          P          R     mAP@.5 mAP@.5:.95: 100% 2/2 [00:01<00:00,  1.75it/s]\n",
            "                 all         60        347      0.221      0.248      0.125     0.0275\n",
            "\n",
            "     Epoch   gpu_mem       box       obj       cls    labels  img_size\n",
            "     14/99     2.17G   0.09768      0.02         0        70       480: 100% 30/30 [00:28<00:00,  1.04it/s]\n",
            "               Class     Images     Labels          P          R     mAP@.5 mAP@.5:.95: 100% 2/2 [00:01<00:00,  1.72it/s]\n",
            "                 all         60        347      0.225      0.245     0.0957     0.0185\n",
            "\n",
            "     Epoch   gpu_mem       box       obj       cls    labels  img_size\n",
            "     15/99     2.17G   0.09187   0.02037         0        66       480: 100% 30/30 [00:28<00:00,  1.04it/s]\n",
            "               Class     Images     Labels          P          R     mAP@.5 mAP@.5:.95: 100% 2/2 [00:01<00:00,  1.76it/s]\n",
            "                 all         60        347      0.345       0.32      0.189     0.0459\n",
            "\n",
            "     Epoch   gpu_mem       box       obj       cls    labels  img_size\n",
            "     16/99     2.17G   0.09453   0.01998         0        74       480: 100% 30/30 [00:28<00:00,  1.04it/s]\n",
            "               Class     Images     Labels          P          R     mAP@.5 mAP@.5:.95: 100% 2/2 [00:01<00:00,  1.77it/s]\n",
            "                 all         60        347      0.265      0.231      0.126     0.0255\n",
            "\n",
            "     Epoch   gpu_mem       box       obj       cls    labels  img_size\n",
            "     17/99     2.17G   0.09714    0.0187         0        64       480: 100% 30/30 [00:28<00:00,  1.05it/s]\n",
            "               Class     Images     Labels          P          R     mAP@.5 mAP@.5:.95: 100% 2/2 [00:01<00:00,  1.77it/s]\n",
            "                 all         60        347      0.278      0.254      0.132     0.0283\n",
            "\n",
            "     Epoch   gpu_mem       box       obj       cls    labels  img_size\n",
            "     18/99     2.17G     0.097   0.02017         0        40       480: 100% 30/30 [00:28<00:00,  1.05it/s]\n",
            "               Class     Images     Labels          P          R     mAP@.5 mAP@.5:.95: 100% 2/2 [00:01<00:00,  1.76it/s]\n",
            "                 all         60        347      0.284      0.305      0.175     0.0474\n",
            "\n",
            "     Epoch   gpu_mem       box       obj       cls    labels  img_size\n",
            "     19/99     2.17G   0.09363   0.01985         0        77       480: 100% 30/30 [00:28<00:00,  1.05it/s]\n",
            "               Class     Images     Labels          P          R     mAP@.5 mAP@.5:.95: 100% 2/2 [00:01<00:00,  1.78it/s]\n",
            "                 all         60        347      0.271      0.256      0.159     0.0433\n",
            "\n",
            "     Epoch   gpu_mem       box       obj       cls    labels  img_size\n",
            "     20/99     2.17G   0.09317   0.02024         0        70       480: 100% 30/30 [00:28<00:00,  1.05it/s]\n",
            "               Class     Images     Labels          P          R     mAP@.5 mAP@.5:.95: 100% 2/2 [00:01<00:00,  1.78it/s]\n",
            "                 all         60        347      0.321      0.276      0.185     0.0535\n",
            "\n",
            "     Epoch   gpu_mem       box       obj       cls    labels  img_size\n",
            "     21/99     2.17G   0.09376   0.02019         0        58       480: 100% 30/30 [00:28<00:00,  1.05it/s]\n",
            "               Class     Images     Labels          P          R     mAP@.5 mAP@.5:.95: 100% 2/2 [00:01<00:00,  1.78it/s]\n",
            "                 all         60        347      0.353      0.303       0.19      0.042\n",
            "\n",
            "     Epoch   gpu_mem       box       obj       cls    labels  img_size\n",
            "     22/99     2.17G   0.09194   0.01949         0        72       480: 100% 30/30 [00:28<00:00,  1.05it/s]\n",
            "               Class     Images     Labels          P          R     mAP@.5 mAP@.5:.95: 100% 2/2 [00:01<00:00,  1.79it/s]\n",
            "                 all         60        347      0.313       0.34      0.206     0.0461\n",
            "\n",
            "     Epoch   gpu_mem       box       obj       cls    labels  img_size\n",
            "     23/99     2.17G   0.08958   0.02033         0        75       480: 100% 30/30 [00:28<00:00,  1.05it/s]\n",
            "               Class     Images     Labels          P          R     mAP@.5 mAP@.5:.95: 100% 2/2 [00:01<00:00,  1.77it/s]\n",
            "                 all         60        347      0.287      0.303      0.168     0.0389\n",
            "\n",
            "     Epoch   gpu_mem       box       obj       cls    labels  img_size\n",
            "     24/99     2.17G   0.09088   0.01958         0        69       480: 100% 30/30 [00:28<00:00,  1.05it/s]\n",
            "               Class     Images     Labels          P          R     mAP@.5 mAP@.5:.95: 100% 2/2 [00:01<00:00,  1.78it/s]\n",
            "                 all         60        347      0.314      0.282      0.183     0.0434\n",
            "\n",
            "     Epoch   gpu_mem       box       obj       cls    labels  img_size\n",
            "     25/99     2.17G   0.08648   0.02024         0        45       480: 100% 30/30 [00:28<00:00,  1.05it/s]\n",
            "               Class     Images     Labels          P          R     mAP@.5 mAP@.5:.95: 100% 2/2 [00:01<00:00,  1.77it/s]\n",
            "                 all         60        347      0.356      0.329       0.23      0.057\n",
            "\n",
            "     Epoch   gpu_mem       box       obj       cls    labels  img_size\n",
            "     26/99     2.17G   0.08626   0.02024         0        68       480: 100% 30/30 [00:28<00:00,  1.05it/s]\n",
            "               Class     Images     Labels          P          R     mAP@.5 mAP@.5:.95: 100% 2/2 [00:01<00:00,  1.76it/s]\n",
            "                 all         60        347      0.392      0.337      0.232     0.0632\n",
            "\n",
            "     Epoch   gpu_mem       box       obj       cls    labels  img_size\n",
            "     27/99     2.17G   0.08675   0.01964         0        97       480: 100% 30/30 [00:28<00:00,  1.05it/s]\n",
            "               Class     Images     Labels          P          R     mAP@.5 mAP@.5:.95: 100% 2/2 [00:01<00:00,  1.78it/s]\n",
            "                 all         60        347      0.391      0.288       0.19     0.0404\n",
            "\n",
            "     Epoch   gpu_mem       box       obj       cls    labels  img_size\n",
            "     28/99     2.17G   0.09116   0.01913         0        80       480: 100% 30/30 [00:28<00:00,  1.05it/s]\n",
            "               Class     Images     Labels          P          R     mAP@.5 mAP@.5:.95: 100% 2/2 [00:01<00:00,  1.78it/s]\n",
            "                 all         60        347      0.356      0.354      0.212     0.0527\n",
            "\n",
            "     Epoch   gpu_mem       box       obj       cls    labels  img_size\n",
            "     29/99     2.17G    0.0904   0.01929         0        71       480: 100% 30/30 [00:28<00:00,  1.05it/s]\n",
            "               Class     Images     Labels          P          R     mAP@.5 mAP@.5:.95: 100% 2/2 [00:01<00:00,  1.78it/s]\n",
            "                 all         60        347      0.315      0.352      0.233     0.0573\n",
            "\n",
            "     Epoch   gpu_mem       box       obj       cls    labels  img_size\n",
            "     30/99     2.17G   0.08563   0.01952         0        50       480: 100% 30/30 [00:28<00:00,  1.05it/s]\n",
            "               Class     Images     Labels          P          R     mAP@.5 mAP@.5:.95: 100% 2/2 [00:01<00:00,  1.77it/s]\n",
            "                 all         60        347       0.34      0.323      0.214     0.0478\n",
            "\n",
            "     Epoch   gpu_mem       box       obj       cls    labels  img_size\n",
            "     31/99     2.17G   0.08504   0.02039         0        90       480: 100% 30/30 [00:28<00:00,  1.05it/s]\n",
            "               Class     Images     Labels          P          R     mAP@.5 mAP@.5:.95: 100% 2/2 [00:01<00:00,  1.76it/s]\n",
            "                 all         60        347      0.297      0.389      0.233     0.0664\n",
            "\n",
            "     Epoch   gpu_mem       box       obj       cls    labels  img_size\n",
            "     32/99     2.17G    0.0853   0.02126         0       103       480: 100% 30/30 [00:28<00:00,  1.05it/s]\n",
            "               Class     Images     Labels          P          R     mAP@.5 mAP@.5:.95: 100% 2/2 [00:01<00:00,  1.79it/s]\n",
            "                 all         60        347      0.357      0.363      0.237     0.0703\n",
            "\n",
            "     Epoch   gpu_mem       box       obj       cls    labels  img_size\n",
            "     33/99     2.17G   0.08309   0.01961         0        55       480: 100% 30/30 [00:28<00:00,  1.05it/s]\n",
            "               Class     Images     Labels          P          R     mAP@.5 mAP@.5:.95: 100% 2/2 [00:01<00:00,  1.79it/s]\n",
            "                 all         60        347      0.377      0.326      0.227     0.0642\n",
            "\n",
            "     Epoch   gpu_mem       box       obj       cls    labels  img_size\n",
            "     34/99     2.17G   0.08564   0.02026         0        60       480: 100% 30/30 [00:28<00:00,  1.06it/s]\n",
            "               Class     Images     Labels          P          R     mAP@.5 mAP@.5:.95: 100% 2/2 [00:01<00:00,  1.77it/s]\n",
            "                 all         60        347      0.468      0.323      0.298     0.0882\n",
            "\n",
            "     Epoch   gpu_mem       box       obj       cls    labels  img_size\n",
            "     35/99     2.17G   0.08178   0.02067         0        65       480: 100% 30/30 [00:28<00:00,  1.05it/s]\n",
            "               Class     Images     Labels          P          R     mAP@.5 mAP@.5:.95: 100% 2/2 [00:01<00:00,  1.78it/s]\n",
            "                 all         60        347      0.436      0.345      0.274     0.0848\n",
            "\n",
            "     Epoch   gpu_mem       box       obj       cls    labels  img_size\n",
            "     36/99     2.17G   0.07965   0.02103         0        71       480: 100% 30/30 [00:28<00:00,  1.05it/s]\n",
            "               Class     Images     Labels          P          R     mAP@.5 mAP@.5:.95: 100% 2/2 [00:01<00:00,  1.79it/s]\n",
            "                 all         60        347      0.396      0.357      0.238     0.0691\n",
            "\n",
            "     Epoch   gpu_mem       box       obj       cls    labels  img_size\n",
            "     37/99     2.17G   0.08023   0.02022         0        70       480: 100% 30/30 [00:28<00:00,  1.05it/s]\n",
            "               Class     Images     Labels          P          R     mAP@.5 mAP@.5:.95: 100% 2/2 [00:01<00:00,  1.79it/s]\n",
            "                 all         60        347      0.364      0.372      0.239     0.0675\n",
            "\n",
            "     Epoch   gpu_mem       box       obj       cls    labels  img_size\n",
            "     38/99     2.17G   0.07879    0.0191         0        45       480: 100% 30/30 [00:28<00:00,  1.06it/s]\n",
            "               Class     Images     Labels          P          R     mAP@.5 mAP@.5:.95: 100% 2/2 [00:01<00:00,  1.78it/s]\n",
            "                 all         60        347      0.465       0.36      0.304       0.11\n",
            "\n",
            "     Epoch   gpu_mem       box       obj       cls    labels  img_size\n",
            "     39/99     2.17G   0.07845   0.01978         0        50       480: 100% 30/30 [00:28<00:00,  1.05it/s]\n",
            "               Class     Images     Labels          P          R     mAP@.5 mAP@.5:.95: 100% 2/2 [00:01<00:00,  1.78it/s]\n",
            "                 all         60        347      0.474       0.28      0.237     0.0619\n",
            "\n",
            "     Epoch   gpu_mem       box       obj       cls    labels  img_size\n",
            "     40/99     2.17G   0.07703   0.02122         0        88       480: 100% 30/30 [00:28<00:00,  1.06it/s]\n",
            "               Class     Images     Labels          P          R     mAP@.5 mAP@.5:.95: 100% 2/2 [00:01<00:00,  1.77it/s]\n",
            "                 all         60        347      0.463      0.331      0.297     0.0877\n",
            "\n",
            "     Epoch   gpu_mem       box       obj       cls    labels  img_size\n",
            "     41/99     2.17G   0.07617   0.01998         0        70       480: 100% 30/30 [00:28<00:00,  1.05it/s]\n",
            "               Class     Images     Labels          P          R     mAP@.5 mAP@.5:.95: 100% 2/2 [00:01<00:00,  1.79it/s]\n",
            "                 all         60        347      0.417      0.427      0.328      0.103\n",
            "\n",
            "     Epoch   gpu_mem       box       obj       cls    labels  img_size\n",
            "     42/99     2.17G   0.07459    0.0189         0        49       480: 100% 30/30 [00:28<00:00,  1.05it/s]\n",
            "               Class     Images     Labels          P          R     mAP@.5 mAP@.5:.95: 100% 2/2 [00:01<00:00,  1.76it/s]\n",
            "                 all         60        347      0.532      0.331      0.299     0.0804\n",
            "\n",
            "     Epoch   gpu_mem       box       obj       cls    labels  img_size\n",
            "     43/99     2.17G   0.07373    0.0201         0        67       480: 100% 30/30 [00:28<00:00,  1.05it/s]\n",
            "               Class     Images     Labels          P          R     mAP@.5 mAP@.5:.95: 100% 2/2 [00:01<00:00,  1.79it/s]\n",
            "                 all         60        347        0.4      0.383      0.292     0.0848\n",
            "\n",
            "     Epoch   gpu_mem       box       obj       cls    labels  img_size\n",
            "     44/99     2.17G    0.0715     0.021         0        63       480: 100% 30/30 [00:28<00:00,  1.05it/s]\n",
            "               Class     Images     Labels          P          R     mAP@.5 mAP@.5:.95: 100% 2/2 [00:01<00:00,  1.77it/s]\n",
            "                 all         60        347      0.502        0.3      0.271      0.082\n",
            "\n",
            "     Epoch   gpu_mem       box       obj       cls    labels  img_size\n",
            "     45/99     2.17G   0.07465    0.0201         0        57       480: 100% 30/30 [00:28<00:00,  1.05it/s]\n",
            "               Class     Images     Labels          P          R     mAP@.5 mAP@.5:.95: 100% 2/2 [00:01<00:00,  1.79it/s]\n",
            "                 all         60        347      0.482      0.349      0.284     0.0932\n",
            "\n",
            "     Epoch   gpu_mem       box       obj       cls    labels  img_size\n",
            "     46/99     2.17G   0.07122   0.02077         0       105       480: 100% 30/30 [00:28<00:00,  1.05it/s]\n",
            "               Class     Images     Labels          P          R     mAP@.5 mAP@.5:.95: 100% 2/2 [00:01<00:00,  1.79it/s]\n",
            "                 all         60        347       0.43      0.424      0.309      0.103\n",
            "\n",
            "     Epoch   gpu_mem       box       obj       cls    labels  img_size\n",
            "     47/99     2.17G   0.07092    0.0203         0        36       480: 100% 30/30 [00:28<00:00,  1.05it/s]\n",
            "               Class     Images     Labels          P          R     mAP@.5 mAP@.5:.95: 100% 2/2 [00:01<00:00,  1.79it/s]\n",
            "                 all         60        347      0.444       0.45      0.344      0.127\n",
            "\n",
            "     Epoch   gpu_mem       box       obj       cls    labels  img_size\n",
            "     48/99     2.17G   0.07039   0.02092         0        67       480: 100% 30/30 [00:28<00:00,  1.05it/s]\n",
            "               Class     Images     Labels          P          R     mAP@.5 mAP@.5:.95: 100% 2/2 [00:01<00:00,  1.76it/s]\n",
            "                 all         60        347       0.43      0.441      0.364      0.124\n",
            "\n",
            "     Epoch   gpu_mem       box       obj       cls    labels  img_size\n",
            "     49/99     2.17G   0.07103   0.02067         0        49       480: 100% 30/30 [00:28<00:00,  1.05it/s]\n",
            "               Class     Images     Labels          P          R     mAP@.5 mAP@.5:.95: 100% 2/2 [00:01<00:00,  1.78it/s]\n",
            "                 all         60        347      0.439      0.438      0.349       0.12\n",
            "\n",
            "     Epoch   gpu_mem       box       obj       cls    labels  img_size\n",
            "     50/99     2.17G    0.0681   0.02091         0        64       480: 100% 30/30 [00:28<00:00,  1.05it/s]\n",
            "               Class     Images     Labels          P          R     mAP@.5 mAP@.5:.95: 100% 2/2 [00:01<00:00,  1.77it/s]\n",
            "                 all         60        347       0.43      0.444      0.353      0.118\n",
            "\n",
            "     Epoch   gpu_mem       box       obj       cls    labels  img_size\n",
            "     51/99     2.17G   0.06864   0.01973         0        72       480: 100% 30/30 [00:28<00:00,  1.05it/s]\n",
            "               Class     Images     Labels          P          R     mAP@.5 mAP@.5:.95: 100% 2/2 [00:01<00:00,  1.80it/s]\n",
            "                 all         60        347      0.503      0.383      0.362      0.113\n",
            "\n",
            "     Epoch   gpu_mem       box       obj       cls    labels  img_size\n",
            "     52/99     2.17G   0.06902   0.02073         0       117       480: 100% 30/30 [00:28<00:00,  1.05it/s]\n",
            "               Class     Images     Labels          P          R     mAP@.5 mAP@.5:.95: 100% 2/2 [00:01<00:00,  1.79it/s]\n",
            "                 all         60        347       0.51      0.427      0.386      0.129\n",
            "\n",
            "     Epoch   gpu_mem       box       obj       cls    labels  img_size\n",
            "     53/99     2.17G   0.06923   0.02178         0        74       480: 100% 30/30 [00:28<00:00,  1.05it/s]\n",
            "               Class     Images     Labels          P          R     mAP@.5 mAP@.5:.95: 100% 2/2 [00:01<00:00,  1.80it/s]\n",
            "                 all         60        347      0.491      0.412      0.345      0.134\n",
            "\n",
            "     Epoch   gpu_mem       box       obj       cls    labels  img_size\n",
            "     54/99     2.17G   0.06771    0.0199         0        82       480: 100% 30/30 [00:28<00:00,  1.05it/s]\n",
            "               Class     Images     Labels          P          R     mAP@.5 mAP@.5:.95: 100% 2/2 [00:01<00:00,  1.78it/s]\n",
            "                 all         60        347      0.436      0.446      0.353       0.13\n",
            "\n",
            "     Epoch   gpu_mem       box       obj       cls    labels  img_size\n",
            "     55/99     2.17G   0.06707   0.02045         0        60       480: 100% 30/30 [00:28<00:00,  1.05it/s]\n",
            "               Class     Images     Labels          P          R     mAP@.5 mAP@.5:.95: 100% 2/2 [00:01<00:00,  1.80it/s]\n",
            "                 all         60        347       0.54      0.406      0.413      0.158\n",
            "\n",
            "     Epoch   gpu_mem       box       obj       cls    labels  img_size\n",
            "     56/99     2.17G   0.06628   0.01971         0        92       480: 100% 30/30 [00:28<00:00,  1.06it/s]\n",
            "               Class     Images     Labels          P          R     mAP@.5 mAP@.5:.95: 100% 2/2 [00:01<00:00,  1.77it/s]\n",
            "                 all         60        347      0.517       0.46        0.4      0.145\n",
            "\n",
            "     Epoch   gpu_mem       box       obj       cls    labels  img_size\n",
            "     57/99     2.17G   0.06674   0.01971         0        73       480: 100% 30/30 [00:28<00:00,  1.06it/s]\n",
            "               Class     Images     Labels          P          R     mAP@.5 mAP@.5:.95: 100% 2/2 [00:01<00:00,  1.79it/s]\n",
            "                 all         60        347      0.505       0.45      0.389      0.152\n",
            "\n",
            "     Epoch   gpu_mem       box       obj       cls    labels  img_size\n",
            "     58/99     2.17G    0.0621   0.01912         0        64       480: 100% 30/30 [00:28<00:00,  1.06it/s]\n",
            "               Class     Images     Labels          P          R     mAP@.5 mAP@.5:.95: 100% 2/2 [00:01<00:00,  1.78it/s]\n",
            "                 all         60        347      0.467      0.476      0.393      0.138\n",
            "\n",
            "     Epoch   gpu_mem       box       obj       cls    labels  img_size\n",
            "     59/99     2.17G   0.06272   0.01872         0        75       480: 100% 30/30 [00:28<00:00,  1.06it/s]\n",
            "               Class     Images     Labels          P          R     mAP@.5 mAP@.5:.95: 100% 2/2 [00:01<00:00,  1.79it/s]\n",
            "                 all         60        347       0.56      0.401      0.403      0.157\n",
            "\n",
            "     Epoch   gpu_mem       box       obj       cls    labels  img_size\n",
            "     60/99     2.17G   0.06333   0.02037         0        63       480: 100% 30/30 [00:28<00:00,  1.06it/s]\n",
            "               Class     Images     Labels          P          R     mAP@.5 mAP@.5:.95: 100% 2/2 [00:01<00:00,  1.80it/s]\n",
            "                 all         60        347      0.452      0.435      0.347       0.13\n",
            "\n",
            "     Epoch   gpu_mem       box       obj       cls    labels  img_size\n",
            "     61/99     2.17G   0.06363   0.02042         0        65       480: 100% 30/30 [00:28<00:00,  1.06it/s]\n",
            "               Class     Images     Labels          P          R     mAP@.5 mAP@.5:.95: 100% 2/2 [00:01<00:00,  1.79it/s]\n",
            "                 all         60        347      0.485      0.447      0.394      0.157\n",
            "\n",
            "     Epoch   gpu_mem       box       obj       cls    labels  img_size\n",
            "     62/99     2.17G   0.06255   0.01935         0        85       480: 100% 30/30 [00:28<00:00,  1.06it/s]\n",
            "               Class     Images     Labels          P          R     mAP@.5 mAP@.5:.95: 100% 2/2 [00:01<00:00,  1.78it/s]\n",
            "                 all         60        347      0.414      0.452      0.338       0.12\n",
            "\n",
            "     Epoch   gpu_mem       box       obj       cls    labels  img_size\n",
            "     63/99     2.17G   0.06228   0.02021         0        62       480: 100% 30/30 [00:28<00:00,  1.06it/s]\n",
            "               Class     Images     Labels          P          R     mAP@.5 mAP@.5:.95: 100% 2/2 [00:01<00:00,  1.75it/s]\n",
            "                 all         60        347      0.451      0.481      0.382      0.147\n",
            "\n",
            "     Epoch   gpu_mem       box       obj       cls    labels  img_size\n",
            "     64/99     2.17G   0.06201   0.01953         0        88       480: 100% 30/30 [00:28<00:00,  1.06it/s]\n",
            "               Class     Images     Labels          P          R     mAP@.5 mAP@.5:.95: 100% 2/2 [00:01<00:00,  1.78it/s]\n",
            "                 all         60        347      0.554      0.426      0.405       0.17\n",
            "\n",
            "     Epoch   gpu_mem       box       obj       cls    labels  img_size\n",
            "     65/99     2.17G   0.06409   0.02049         0        67       480: 100% 30/30 [00:28<00:00,  1.06it/s]\n",
            "               Class     Images     Labels          P          R     mAP@.5 mAP@.5:.95: 100% 2/2 [00:01<00:00,  1.79it/s]\n",
            "                 all         60        347      0.541      0.458      0.422      0.164\n",
            "\n",
            "     Epoch   gpu_mem       box       obj       cls    labels  img_size\n",
            "     66/99     2.17G   0.06145   0.02031         0        67       480: 100% 30/30 [00:28<00:00,  1.06it/s]\n",
            "               Class     Images     Labels          P          R     mAP@.5 mAP@.5:.95: 100% 2/2 [00:01<00:00,  1.75it/s]\n",
            "                 all         60        347      0.471      0.458      0.399      0.146\n",
            "\n",
            "     Epoch   gpu_mem       box       obj       cls    labels  img_size\n",
            "     67/99     2.17G   0.06142   0.02009         0        65       480: 100% 30/30 [00:28<00:00,  1.05it/s]\n",
            "               Class     Images     Labels          P          R     mAP@.5 mAP@.5:.95: 100% 2/2 [00:01<00:00,  1.78it/s]\n",
            "                 all         60        347       0.53      0.461      0.437      0.164\n",
            "\n",
            "     Epoch   gpu_mem       box       obj       cls    labels  img_size\n",
            "     68/99     2.17G   0.06219   0.01947         0        68       480: 100% 30/30 [00:28<00:00,  1.06it/s]\n",
            "               Class     Images     Labels          P          R     mAP@.5 mAP@.5:.95: 100% 2/2 [00:01<00:00,  1.79it/s]\n",
            "                 all         60        347      0.538       0.45      0.431      0.165\n",
            "\n",
            "     Epoch   gpu_mem       box       obj       cls    labels  img_size\n",
            "     69/99     2.17G   0.05926   0.01909         0        45       480: 100% 30/30 [00:28<00:00,  1.06it/s]\n",
            "               Class     Images     Labels          P          R     mAP@.5 mAP@.5:.95: 100% 2/2 [00:01<00:00,  1.79it/s]\n",
            "                 all         60        347      0.465      0.516      0.419      0.155\n",
            "\n",
            "     Epoch   gpu_mem       box       obj       cls    labels  img_size\n",
            "     70/99     2.17G    0.0595   0.01945         0        66       480: 100% 30/30 [00:28<00:00,  1.06it/s]\n",
            "               Class     Images     Labels          P          R     mAP@.5 mAP@.5:.95: 100% 2/2 [00:01<00:00,  1.78it/s]\n",
            "                 all         60        347      0.535      0.501      0.446      0.175\n",
            "\n",
            "     Epoch   gpu_mem       box       obj       cls    labels  img_size\n",
            "     71/99     2.17G   0.05909   0.01973         0        78       480: 100% 30/30 [00:28<00:00,  1.05it/s]\n",
            "               Class     Images     Labels          P          R     mAP@.5 mAP@.5:.95: 100% 2/2 [00:01<00:00,  1.76it/s]\n",
            "                 all         60        347      0.417      0.521      0.389      0.158\n",
            "\n",
            "     Epoch   gpu_mem       box       obj       cls    labels  img_size\n",
            "     72/99     2.17G   0.05912   0.01958         0        50       480: 100% 30/30 [00:28<00:00,  1.05it/s]\n",
            "               Class     Images     Labels          P          R     mAP@.5 mAP@.5:.95: 100% 2/2 [00:01<00:00,  1.78it/s]\n",
            "                 all         60        347      0.522      0.487      0.445      0.172\n",
            "\n",
            "     Epoch   gpu_mem       box       obj       cls    labels  img_size\n",
            "     73/99     2.17G   0.05917   0.02012         0        56       480: 100% 30/30 [00:28<00:00,  1.05it/s]\n",
            "               Class     Images     Labels          P          R     mAP@.5 mAP@.5:.95: 100% 2/2 [00:01<00:00,  1.78it/s]\n",
            "                 all         60        347      0.563      0.476      0.437      0.159\n",
            "\n",
            "     Epoch   gpu_mem       box       obj       cls    labels  img_size\n",
            "     74/99     2.17G   0.05822   0.01935         0        51       480: 100% 30/30 [00:28<00:00,  1.05it/s]\n",
            "               Class     Images     Labels          P          R     mAP@.5 mAP@.5:.95: 100% 2/2 [00:01<00:00,  1.77it/s]\n",
            "                 all         60        347      0.574      0.487      0.467      0.184\n",
            "\n",
            "     Epoch   gpu_mem       box       obj       cls    labels  img_size\n",
            "     75/99     2.17G   0.05865   0.01924         0        82       480: 100% 30/30 [00:28<00:00,  1.05it/s]\n",
            "               Class     Images     Labels          P          R     mAP@.5 mAP@.5:.95: 100% 2/2 [00:01<00:00,  1.77it/s]\n",
            "                 all         60        347      0.562      0.478       0.46       0.18\n",
            "\n",
            "     Epoch   gpu_mem       box       obj       cls    labels  img_size\n",
            "     76/99     2.17G   0.05872   0.01871         0        65       480: 100% 30/30 [00:28<00:00,  1.05it/s]\n",
            "               Class     Images     Labels          P          R     mAP@.5 mAP@.5:.95: 100% 2/2 [00:01<00:00,  1.80it/s]\n",
            "                 all         60        347      0.559      0.493      0.455      0.183\n",
            "\n",
            "     Epoch   gpu_mem       box       obj       cls    labels  img_size\n",
            "     77/99     2.17G   0.05783   0.02026         0        60       480: 100% 30/30 [00:28<00:00,  1.05it/s]\n",
            "               Class     Images     Labels          P          R     mAP@.5 mAP@.5:.95: 100% 2/2 [00:01<00:00,  1.77it/s]\n",
            "                 all         60        347      0.542      0.501      0.459      0.176\n",
            "\n",
            "     Epoch   gpu_mem       box       obj       cls    labels  img_size\n",
            "     78/99     2.17G   0.05773   0.02024         0        56       480: 100% 30/30 [00:28<00:00,  1.05it/s]\n",
            "               Class     Images     Labels          P          R     mAP@.5 mAP@.5:.95: 100% 2/2 [00:01<00:00,  1.78it/s]\n",
            "                 all         60        347      0.511      0.527      0.443      0.166\n",
            "\n",
            "     Epoch   gpu_mem       box       obj       cls    labels  img_size\n",
            "     79/99     2.17G   0.05767   0.01806         0        53       480: 100% 30/30 [00:28<00:00,  1.05it/s]\n",
            "               Class     Images     Labels          P          R     mAP@.5 mAP@.5:.95: 100% 2/2 [00:01<00:00,  1.78it/s]\n",
            "                 all         60        347      0.584       0.47       0.46      0.182\n",
            "\n",
            "     Epoch   gpu_mem       box       obj       cls    labels  img_size\n",
            "     80/99     2.17G   0.05863   0.02023         0        71       480: 100% 30/30 [00:28<00:00,  1.05it/s]\n",
            "               Class     Images     Labels          P          R     mAP@.5 mAP@.5:.95: 100% 2/2 [00:01<00:00,  1.78it/s]\n",
            "                 all         60        347      0.518      0.519      0.447      0.185\n",
            "\n",
            "     Epoch   gpu_mem       box       obj       cls    labels  img_size\n",
            "     81/99     2.17G   0.05665   0.01885         0        69       480: 100% 30/30 [00:28<00:00,  1.05it/s]\n",
            "               Class     Images     Labels          P          R     mAP@.5 mAP@.5:.95: 100% 2/2 [00:01<00:00,  1.76it/s]\n",
            "                 all         60        347      0.592      0.501      0.481      0.196\n",
            "\n",
            "     Epoch   gpu_mem       box       obj       cls    labels  img_size\n",
            "     82/99     2.17G   0.05659   0.02054         0        86       480: 100% 30/30 [00:28<00:00,  1.05it/s]\n",
            "               Class     Images     Labels          P          R     mAP@.5 mAP@.5:.95: 100% 2/2 [00:01<00:00,  1.78it/s]\n",
            "                 all         60        347        0.6      0.455      0.475      0.189\n",
            "\n",
            "     Epoch   gpu_mem       box       obj       cls    labels  img_size\n",
            "     83/99     2.17G   0.05583   0.01947         0        48       480: 100% 30/30 [00:28<00:00,  1.05it/s]\n",
            "               Class     Images     Labels          P          R     mAP@.5 mAP@.5:.95: 100% 2/2 [00:01<00:00,  1.79it/s]\n",
            "                 all         60        347      0.528      0.536      0.478      0.198\n",
            "\n",
            "     Epoch   gpu_mem       box       obj       cls    labels  img_size\n",
            "     84/99     2.17G   0.05687   0.01885         0        42       480: 100% 30/30 [00:28<00:00,  1.05it/s]\n",
            "               Class     Images     Labels          P          R     mAP@.5 mAP@.5:.95: 100% 2/2 [00:01<00:00,  1.78it/s]\n",
            "                 all         60        347      0.514      0.536      0.457      0.188\n",
            "\n",
            "     Epoch   gpu_mem       box       obj       cls    labels  img_size\n",
            "     85/99     2.17G   0.05596    0.0192         0        43       480: 100% 30/30 [00:28<00:00,  1.05it/s]\n",
            "               Class     Images     Labels          P          R     mAP@.5 mAP@.5:.95: 100% 2/2 [00:01<00:00,  1.76it/s]\n",
            "                 all         60        347      0.531      0.493      0.451      0.189\n",
            "\n",
            "     Epoch   gpu_mem       box       obj       cls    labels  img_size\n",
            "     86/99     2.17G   0.05474   0.01939         0        82       480: 100% 30/30 [00:28<00:00,  1.05it/s]\n",
            "               Class     Images     Labels          P          R     mAP@.5 mAP@.5:.95: 100% 2/2 [00:01<00:00,  1.78it/s]\n",
            "                 all         60        347      0.505       0.55      0.485      0.206\n",
            "\n",
            "     Epoch   gpu_mem       box       obj       cls    labels  img_size\n",
            "     87/99     2.17G    0.0561   0.01927         0        60       480: 100% 30/30 [00:28<00:00,  1.04it/s]\n",
            "               Class     Images     Labels          P          R     mAP@.5 mAP@.5:.95: 100% 2/2 [00:01<00:00,  1.78it/s]\n",
            "                 all         60        347      0.519      0.496      0.452      0.189\n",
            "\n",
            "     Epoch   gpu_mem       box       obj       cls    labels  img_size\n",
            "     88/99     2.17G    0.0556     0.019         0        65       480: 100% 30/30 [00:28<00:00,  1.04it/s]\n",
            "               Class     Images     Labels          P          R     mAP@.5 mAP@.5:.95: 100% 2/2 [00:01<00:00,  1.74it/s]\n",
            "                 all         60        347      0.537      0.501      0.471      0.193\n",
            "\n",
            "     Epoch   gpu_mem       box       obj       cls    labels  img_size\n",
            "     89/99     2.17G   0.05425   0.01899         0        95       480: 100% 30/30 [00:28<00:00,  1.04it/s]\n",
            "               Class     Images     Labels          P          R     mAP@.5 mAP@.5:.95: 100% 2/2 [00:01<00:00,  1.79it/s]\n",
            "                 all         60        347      0.549       0.46      0.437      0.183\n",
            "\n",
            "     Epoch   gpu_mem       box       obj       cls    labels  img_size\n",
            "     90/99     2.17G   0.05577   0.01916         0        35       480: 100% 30/30 [00:28<00:00,  1.04it/s]\n",
            "               Class     Images     Labels          P          R     mAP@.5 mAP@.5:.95: 100% 2/2 [00:01<00:00,  1.79it/s]\n",
            "                 all         60        347      0.589      0.478      0.479      0.205\n",
            "\n",
            "     Epoch   gpu_mem       box       obj       cls    labels  img_size\n",
            "     91/99     2.17G   0.05565   0.01855         0        50       480: 100% 30/30 [00:28<00:00,  1.05it/s]\n",
            "               Class     Images     Labels          P          R     mAP@.5 mAP@.5:.95: 100% 2/2 [00:01<00:00,  1.78it/s]\n",
            "                 all         60        347      0.556      0.496      0.464      0.199\n",
            "\n",
            "     Epoch   gpu_mem       box       obj       cls    labels  img_size\n",
            "     92/99     2.17G    0.0564   0.01901         0        50       480: 100% 30/30 [00:28<00:00,  1.05it/s]\n",
            "               Class     Images     Labels          P          R     mAP@.5 mAP@.5:.95: 100% 2/2 [00:01<00:00,  1.75it/s]\n",
            "                 all         60        347      0.568      0.496      0.471      0.192\n",
            "\n",
            "     Epoch   gpu_mem       box       obj       cls    labels  img_size\n",
            "     93/99     2.17G   0.05465   0.01758         0        81       480: 100% 30/30 [00:28<00:00,  1.05it/s]\n",
            "               Class     Images     Labels          P          R     mAP@.5 mAP@.5:.95: 100% 2/2 [00:01<00:00,  1.76it/s]\n",
            "                 all         60        347      0.514      0.527      0.466      0.196\n",
            "\n",
            "     Epoch   gpu_mem       box       obj       cls    labels  img_size\n",
            "     94/99     2.17G    0.0548   0.01929         0        69       480: 100% 30/30 [00:28<00:00,  1.05it/s]\n",
            "               Class     Images     Labels          P          R     mAP@.5 mAP@.5:.95: 100% 2/2 [00:01<00:00,  1.79it/s]\n",
            "                 all         60        347      0.529      0.576      0.492      0.201\n",
            "\n",
            "     Epoch   gpu_mem       box       obj       cls    labels  img_size\n",
            "     95/99     2.17G    0.0547    0.0189         0        81       480: 100% 30/30 [00:28<00:00,  1.05it/s]\n",
            "               Class     Images     Labels          P          R     mAP@.5 mAP@.5:.95: 100% 2/2 [00:01<00:00,  1.80it/s]\n",
            "                 all         60        347      0.542      0.515      0.466      0.196\n",
            "\n",
            "     Epoch   gpu_mem       box       obj       cls    labels  img_size\n",
            "     96/99     2.17G   0.05522   0.01923         0        56       480: 100% 30/30 [00:28<00:00,  1.04it/s]\n",
            "               Class     Images     Labels          P          R     mAP@.5 mAP@.5:.95: 100% 2/2 [00:01<00:00,  1.79it/s]\n",
            "                 all         60        347      0.559      0.519      0.484      0.199\n",
            "\n",
            "     Epoch   gpu_mem       box       obj       cls    labels  img_size\n",
            "     97/99     2.17G   0.05327   0.01907         0        71       480: 100% 30/30 [00:28<00:00,  1.04it/s]\n",
            "               Class     Images     Labels          P          R     mAP@.5 mAP@.5:.95: 100% 2/2 [00:01<00:00,  1.77it/s]\n",
            "                 all         60        347      0.552      0.516      0.464      0.196\n",
            "\n",
            "     Epoch   gpu_mem       box       obj       cls    labels  img_size\n",
            "     98/99     2.17G   0.05386   0.01862         0        78       480: 100% 30/30 [00:28<00:00,  1.05it/s]\n",
            "               Class     Images     Labels          P          R     mAP@.5 mAP@.5:.95: 100% 2/2 [00:01<00:00,  1.77it/s]\n",
            "                 all         60        347      0.581      0.519      0.492       0.21\n",
            "\n",
            "     Epoch   gpu_mem       box       obj       cls    labels  img_size\n",
            "     99/99     2.17G   0.05365   0.01862         0        38       480: 100% 30/30 [00:28<00:00,  1.05it/s]\n",
            "               Class     Images     Labels          P          R     mAP@.5 mAP@.5:.95: 100% 2/2 [00:01<00:00,  1.80it/s]\n",
            "                 all         60        347      0.523      0.556      0.496      0.217\n",
            "\n",
            "100 epochs completed in 0.842 hours.\n",
            "Optimizer stripped from train/exp/weights/last.pt, 14.4MB\n",
            "Optimizer stripped from train/exp/weights/best.pt, 14.4MB\n",
            "\n",
            "Validating train/exp/weights/best.pt...\n",
            "Fusing layers... \n",
            "Model Summary: 213 layers, 7012822 parameters, 0 gradients, 15.8 GFLOPs\n",
            "               Class     Images     Labels          P          R     mAP@.5 mAP@.5:.95: 100% 2/2 [00:03<00:00,  1.64s/it]\n",
            "                 all         60        347      0.593      0.493      0.496      0.217\n",
            "Results saved to \u001b[1mtrain/exp\u001b[0m\n"
          ]
        }
      ]
    },
    {
      "cell_type": "markdown",
      "metadata": {
        "id": "EX6rTYFRqc5j"
      },
      "source": [
        "## **Evaluate the model**\n",
        "\n",
        "Use val.py if you have a test set defined in conedataset.yaml. Remember to use --task test or the model will work on the validation set."
      ]
    },
    {
      "cell_type": "code",
      "metadata": {
        "id": "EvKRe_Lmay1n"
      },
      "source": [
        "!python yolov5/val.py --weights drive/Shareddrives/Sensory_data/lidar_weights.pt --img 480 --conf 0.5 --data sensory-cone-detection/src/lidar/conedataset_lidar.yaml --task test --project test"
      ],
      "execution_count": null,
      "outputs": []
    },
    {
      "cell_type": "markdown",
      "metadata": {
        "id": "-Ff4usNCqBQN"
      },
      "source": [
        "## **Inference**\n",
        "\n",
        "Use detect.py if you have no labeled images or you want to try the model on your custom data."
      ]
    },
    {
      "cell_type": "code",
      "metadata": {
        "id": "-IhZNvqDfJSc"
      },
      "source": [
        "import time\n",
        "import numpy as np\n",
        "start = np.floor(time.time()*1000)\n",
        "!rm -rf lidar_inference/exp\n",
        "print(np.floor(time.time()*1000-start))\n",
        "!python yolov5/detect.py --weights /content/drive/Shareddrives/Sensory_data/lidar_weights.pt --img 480 --conf 0.5 --source sensory-cone-detection/src/datasets/dataset_lidar/images/ --save-txt --project lidar_inference --hide-labels --line-thickness 2"
      ],
      "execution_count": null,
      "outputs": []
    }
  ]
}